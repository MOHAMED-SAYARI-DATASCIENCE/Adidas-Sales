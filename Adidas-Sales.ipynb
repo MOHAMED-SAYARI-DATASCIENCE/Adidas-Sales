{
 "cells": [
  {
   "cell_type": "code",
   "execution_count": 79,
   "id": "fe1c8bdb",
   "metadata": {},
   "outputs": [],
   "source": [
    "import numpy as np\n",
    "import pandas as pd\n",
    "import matplotlib.pyplot as plt"
   ]
  },
  {
   "cell_type": "code",
   "execution_count": 80,
   "id": "a1955a31",
   "metadata": {},
   "outputs": [
    {
     "name": "stdout",
     "output_type": "stream",
     "text": [
      "           Retailer  Retailer ID Invoice Date     Region        State  \\\n",
      "0           Walmart      1128299    6/17/2021  Southeast      Florida   \n",
      "1         West Gear      1128299    7/16/2021      South    Louisiana   \n",
      "2     Sports Direct      1197831    8/25/2021      South      Alabama   \n",
      "3     Sports Direct      1197831    8/27/2021      South      Alabama   \n",
      "4     Sports Direct      1197831    8/21/2021      South      Alabama   \n",
      "...             ...          ...          ...        ...          ...   \n",
      "9636         Amazon      1185732   11/18/2021  Northeast        Maine   \n",
      "9637         Amazon      1185732   10/22/2021       West       Alaska   \n",
      "9638         Amazon      1185732   10/22/2021       West       Alaska   \n",
      "9639      West Gear      1185732    4/10/2021    Midwest      Indiana   \n",
      "9640  Sports Direct      1185732    10/5/2021  Northeast  Connecticut   \n",
      "\n",
      "              City                    Product Price per Unit Units Sold  \\\n",
      "0          Orlando            Women's Apparel       $103.00         218   \n",
      "1      New Orleans            Women's Apparel       $103.00         163   \n",
      "2       Birmingham      Men's Street Footwear        $10.00         700   \n",
      "3       Birmingham    Women's Street Footwear        $15.00         575   \n",
      "4       Birmingham    Women's Street Footwear        $15.00         475   \n",
      "...            ...                        ...            ...        ...   \n",
      "9636      Portland              Men's Apparel        $65.00         150   \n",
      "9637     Anchorage  Women's Athletic Footwear        $65.00         150   \n",
      "9638     Anchorage              Men's Apparel        $75.00         150   \n",
      "9639  Indianapolis              Men's Apparel        $65.00         150   \n",
      "9640      Hartford              Men's Apparel        $65.00         150   \n",
      "\n",
      "     Total Sales Operating Profit Sales Method  \n",
      "0          2,245          $1,257        Online  \n",
      "1          1,679            $806        Online  \n",
      "2          7,000          $3,150        Outlet  \n",
      "3          8,625          $3,881        Outlet  \n",
      "4          7,125          $3,206        Outlet  \n",
      "...          ...              ...          ...  \n",
      "9636       9,750          $2,438        Outlet  \n",
      "9637       9,750          $2,438        Outlet  \n",
      "9638      11,250          $2,813        Outlet  \n",
      "9639       9,750          $2,925      In-store  \n",
      "9640       9,750          $2,925      In-store  \n",
      "\n",
      "[9641 rows x 12 columns]\n"
     ]
    }
   ],
   "source": [
    "\n",
    "url = r\"C:\\Users\\MSI\\Desktop\\project For Me\\adidas sales\\xlsx\\data_sales-_1_.xlsx\"\n",
    "data = pd.read_excel(url)\n",
    "\n",
    "print(data)"
   ]
  },
  {
   "cell_type": "code",
   "execution_count": 81,
   "id": "4a5772fe",
   "metadata": {},
   "outputs": [
    {
     "data": {
      "text/html": [
       "<div>\n",
       "<style scoped>\n",
       "    .dataframe tbody tr th:only-of-type {\n",
       "        vertical-align: middle;\n",
       "    }\n",
       "\n",
       "    .dataframe tbody tr th {\n",
       "        vertical-align: top;\n",
       "    }\n",
       "\n",
       "    .dataframe thead th {\n",
       "        text-align: right;\n",
       "    }\n",
       "</style>\n",
       "<table border=\"1\" class=\"dataframe\">\n",
       "  <thead>\n",
       "    <tr style=\"text-align: right;\">\n",
       "      <th></th>\n",
       "      <th>Retailer</th>\n",
       "      <th>Retailer ID</th>\n",
       "      <th>Invoice Date</th>\n",
       "      <th>Region</th>\n",
       "      <th>State</th>\n",
       "      <th>City</th>\n",
       "      <th>Product</th>\n",
       "      <th>Price per Unit</th>\n",
       "      <th>Units Sold</th>\n",
       "      <th>Total Sales</th>\n",
       "      <th>Operating Profit</th>\n",
       "      <th>Sales Method</th>\n",
       "    </tr>\n",
       "  </thead>\n",
       "  <tbody>\n",
       "    <tr>\n",
       "      <th>0</th>\n",
       "      <td>Walmart</td>\n",
       "      <td>1128299</td>\n",
       "      <td>6/17/2021</td>\n",
       "      <td>Southeast</td>\n",
       "      <td>Florida</td>\n",
       "      <td>Orlando</td>\n",
       "      <td>Women's Apparel</td>\n",
       "      <td>$103.00</td>\n",
       "      <td>218</td>\n",
       "      <td>2,245</td>\n",
       "      <td>$1,257</td>\n",
       "      <td>Online</td>\n",
       "    </tr>\n",
       "    <tr>\n",
       "      <th>1</th>\n",
       "      <td>West Gear</td>\n",
       "      <td>1128299</td>\n",
       "      <td>7/16/2021</td>\n",
       "      <td>South</td>\n",
       "      <td>Louisiana</td>\n",
       "      <td>New Orleans</td>\n",
       "      <td>Women's Apparel</td>\n",
       "      <td>$103.00</td>\n",
       "      <td>163</td>\n",
       "      <td>1,679</td>\n",
       "      <td>$806</td>\n",
       "      <td>Online</td>\n",
       "    </tr>\n",
       "    <tr>\n",
       "      <th>2</th>\n",
       "      <td>Sports Direct</td>\n",
       "      <td>1197831</td>\n",
       "      <td>8/25/2021</td>\n",
       "      <td>South</td>\n",
       "      <td>Alabama</td>\n",
       "      <td>Birmingham</td>\n",
       "      <td>Men's Street Footwear</td>\n",
       "      <td>$10.00</td>\n",
       "      <td>700</td>\n",
       "      <td>7,000</td>\n",
       "      <td>$3,150</td>\n",
       "      <td>Outlet</td>\n",
       "    </tr>\n",
       "    <tr>\n",
       "      <th>3</th>\n",
       "      <td>Sports Direct</td>\n",
       "      <td>1197831</td>\n",
       "      <td>8/27/2021</td>\n",
       "      <td>South</td>\n",
       "      <td>Alabama</td>\n",
       "      <td>Birmingham</td>\n",
       "      <td>Women's Street Footwear</td>\n",
       "      <td>$15.00</td>\n",
       "      <td>575</td>\n",
       "      <td>8,625</td>\n",
       "      <td>$3,881</td>\n",
       "      <td>Outlet</td>\n",
       "    </tr>\n",
       "    <tr>\n",
       "      <th>4</th>\n",
       "      <td>Sports Direct</td>\n",
       "      <td>1197831</td>\n",
       "      <td>8/21/2021</td>\n",
       "      <td>South</td>\n",
       "      <td>Alabama</td>\n",
       "      <td>Birmingham</td>\n",
       "      <td>Women's Street Footwear</td>\n",
       "      <td>$15.00</td>\n",
       "      <td>475</td>\n",
       "      <td>7,125</td>\n",
       "      <td>$3,206</td>\n",
       "      <td>Outlet</td>\n",
       "    </tr>\n",
       "  </tbody>\n",
       "</table>\n",
       "</div>"
      ],
      "text/plain": [
       "        Retailer  Retailer ID Invoice Date     Region      State         City  \\\n",
       "0        Walmart      1128299    6/17/2021  Southeast    Florida      Orlando   \n",
       "1      West Gear      1128299    7/16/2021      South  Louisiana  New Orleans   \n",
       "2  Sports Direct      1197831    8/25/2021      South    Alabama   Birmingham   \n",
       "3  Sports Direct      1197831    8/27/2021      South    Alabama   Birmingham   \n",
       "4  Sports Direct      1197831    8/21/2021      South    Alabama   Birmingham   \n",
       "\n",
       "                   Product Price per Unit Units Sold Total Sales  \\\n",
       "0          Women's Apparel       $103.00         218       2,245   \n",
       "1          Women's Apparel       $103.00         163       1,679   \n",
       "2    Men's Street Footwear        $10.00         700       7,000   \n",
       "3  Women's Street Footwear        $15.00         575       8,625   \n",
       "4  Women's Street Footwear        $15.00         475       7,125   \n",
       "\n",
       "  Operating Profit Sales Method  \n",
       "0          $1,257        Online  \n",
       "1            $806        Online  \n",
       "2          $3,150        Outlet  \n",
       "3          $3,881        Outlet  \n",
       "4          $3,206        Outlet  "
      ]
     },
     "execution_count": 81,
     "metadata": {},
     "output_type": "execute_result"
    }
   ],
   "source": [
    "data.head()"
   ]
  },
  {
   "cell_type": "code",
   "execution_count": 82,
   "id": "f027d86c",
   "metadata": {},
   "outputs": [
    {
     "data": {
      "text/plain": [
       "(9641, 12)"
      ]
     },
     "execution_count": 82,
     "metadata": {},
     "output_type": "execute_result"
    }
   ],
   "source": [
    "data.shape"
   ]
  },
  {
   "cell_type": "code",
   "execution_count": 83,
   "id": "58537817",
   "metadata": {},
   "outputs": [
    {
     "data": {
      "text/plain": [
       "Index(['Retailer', 'Retailer ID', 'Invoice Date', 'Region', 'State', 'City',\n",
       "       'Product', 'Price per Unit', 'Units Sold', 'Total Sales',\n",
       "       'Operating Profit', 'Sales Method'],\n",
       "      dtype='object')"
      ]
     },
     "execution_count": 83,
     "metadata": {},
     "output_type": "execute_result"
    }
   ],
   "source": [
    "data.columns"
   ]
  },
  {
   "cell_type": "code",
   "execution_count": 84,
   "id": "d50b95b4",
   "metadata": {},
   "outputs": [
    {
     "data": {
      "text/plain": [
       "Retailer            object\n",
       "Retailer ID          int64\n",
       "Invoice Date        object\n",
       "Region              object\n",
       "State               object\n",
       "City                object\n",
       "Product             object\n",
       "Price per Unit      object\n",
       "Units Sold          object\n",
       "Total Sales         object\n",
       "Operating Profit    object\n",
       "Sales Method        object\n",
       "dtype: object"
      ]
     },
     "execution_count": 84,
     "metadata": {},
     "output_type": "execute_result"
    }
   ],
   "source": [
    "data.dtypes"
   ]
  },
  {
   "cell_type": "code",
   "execution_count": 85,
   "id": "8ee6ef50",
   "metadata": {},
   "outputs": [
    {
     "data": {
      "text/plain": [
       "array(['Orlando', 'New Orleans', 'Birmingham', 'St. Louis', 'Jackson',\n",
       "       'Milwaukee', 'New York', 'Detroit', 'Salt Lake City', 'Columbus',\n",
       "       'Little Rock', 'Atlanta', 'Houston', 'Oklahoma City', 'Charleston',\n",
       "       'San Francisco', 'Dallas', 'Wichita', 'Miami', 'Knoxville',\n",
       "       'Los Angeles', 'Charlotte', 'Boise', 'Indianapolis', 'Newark',\n",
       "       'Portland', 'Sioux Falls', 'Fargo', 'Des Moines', 'Baltimore',\n",
       "       'Wilmington', 'Seattle', 'Richmond', 'Albany', 'Cheyenne',\n",
       "       'Minneapolis', 'Louisville', 'Hartford', 'Providence', 'Boston',\n",
       "       'Albuquerque', 'Las Vegas', 'Chicago', 'Omaha', 'Phoenix',\n",
       "       'Burlington', 'Manchester', 'Honolulu', 'Billings', 'Denver',\n",
       "       'Philadelphia', 'Anchorage'], dtype=object)"
      ]
     },
     "execution_count": 85,
     "metadata": {},
     "output_type": "execute_result"
    }
   ],
   "source": [
    "data[\"City\"].unique()"
   ]
  },
  {
   "cell_type": "code",
   "execution_count": 86,
   "id": "a638ee4c",
   "metadata": {},
   "outputs": [
    {
     "data": {
      "text/plain": [
       "Retailer               6\n",
       "Retailer ID            4\n",
       "Invoice Date         724\n",
       "Region                 5\n",
       "State                 50\n",
       "City                  52\n",
       "Product                7\n",
       "Price per Unit        94\n",
       "Units Sold           361\n",
       "Total Sales         1710\n",
       "Operating Profit    1530\n",
       "Sales Method           3\n",
       "dtype: int64"
      ]
     },
     "execution_count": 86,
     "metadata": {},
     "output_type": "execute_result"
    }
   ],
   "source": [
    "data.nunique()"
   ]
  },
  {
   "cell_type": "code",
   "execution_count": 87,
   "id": "3c774dca",
   "metadata": {},
   "outputs": [
    {
     "data": {
      "text/html": [
       "<div>\n",
       "<style scoped>\n",
       "    .dataframe tbody tr th:only-of-type {\n",
       "        vertical-align: middle;\n",
       "    }\n",
       "\n",
       "    .dataframe tbody tr th {\n",
       "        vertical-align: top;\n",
       "    }\n",
       "\n",
       "    .dataframe thead th {\n",
       "        text-align: right;\n",
       "    }\n",
       "</style>\n",
       "<table border=\"1\" class=\"dataframe\">\n",
       "  <thead>\n",
       "    <tr style=\"text-align: right;\">\n",
       "      <th></th>\n",
       "      <th>Retailer ID</th>\n",
       "    </tr>\n",
       "  </thead>\n",
       "  <tbody>\n",
       "    <tr>\n",
       "      <th>count</th>\n",
       "      <td>9.641000e+03</td>\n",
       "    </tr>\n",
       "    <tr>\n",
       "      <th>mean</th>\n",
       "      <td>1.173851e+06</td>\n",
       "    </tr>\n",
       "    <tr>\n",
       "      <th>std</th>\n",
       "      <td>2.635869e+04</td>\n",
       "    </tr>\n",
       "    <tr>\n",
       "      <th>min</th>\n",
       "      <td>1.128299e+06</td>\n",
       "    </tr>\n",
       "    <tr>\n",
       "      <th>25%</th>\n",
       "      <td>1.185732e+06</td>\n",
       "    </tr>\n",
       "    <tr>\n",
       "      <th>50%</th>\n",
       "      <td>1.185732e+06</td>\n",
       "    </tr>\n",
       "    <tr>\n",
       "      <th>75%</th>\n",
       "      <td>1.185732e+06</td>\n",
       "    </tr>\n",
       "    <tr>\n",
       "      <th>max</th>\n",
       "      <td>1.197831e+06</td>\n",
       "    </tr>\n",
       "  </tbody>\n",
       "</table>\n",
       "</div>"
      ],
      "text/plain": [
       "        Retailer ID\n",
       "count  9.641000e+03\n",
       "mean   1.173851e+06\n",
       "std    2.635869e+04\n",
       "min    1.128299e+06\n",
       "25%    1.185732e+06\n",
       "50%    1.185732e+06\n",
       "75%    1.185732e+06\n",
       "max    1.197831e+06"
      ]
     },
     "execution_count": 87,
     "metadata": {},
     "output_type": "execute_result"
    }
   ],
   "source": [
    "data.describe()"
   ]
  },
  {
   "cell_type": "code",
   "execution_count": 88,
   "id": "554e7209",
   "metadata": {},
   "outputs": [
    {
     "data": {
      "text/plain": [
       "City\n",
       "Portland          360\n",
       "Charleston        288\n",
       "Orlando           216\n",
       "Dallas            216\n",
       "Richmond          216\n",
       "Hartford          216\n",
       "Providence        216\n",
       "Boston            216\n",
       "Albuquerque       216\n",
       "New Orleans       216\n",
       "Las Vegas         216\n",
       "Boise             216\n",
       "Phoenix           216\n",
       "Los Angeles       216\n",
       "Knoxville         216\n",
       "Burlington        216\n",
       "Manchester        216\n",
       "Salt Lake City    216\n",
       "Jackson           216\n",
       "Oklahoma City     216\n",
       "Atlanta           216\n",
       "Little Rock       216\n",
       "Birmingham        216\n",
       "Philadelphia      216\n",
       "New York          216\n",
       "Houston           214\n",
       "San Francisco     214\n",
       "Louisville        144\n",
       "Cheyenne          144\n",
       "Denver            144\n",
       "Billings          144\n",
       "Honolulu          144\n",
       "Omaha             144\n",
       "Minneapolis       144\n",
       "Sioux Falls       144\n",
       "Albany            144\n",
       "Charlotte         144\n",
       "St. Louis         144\n",
       "Milwaukee         144\n",
       "Detroit           144\n",
       "Columbus          144\n",
       "Wichita           144\n",
       "Miami             144\n",
       "Indianapolis      144\n",
       "Seattle           144\n",
       "Newark            144\n",
       "Fargo             144\n",
       "Des Moines        144\n",
       "Baltimore         144\n",
       "Wilmington        144\n",
       "Anchorage         144\n",
       "Chicago           141\n",
       "Name: count, dtype: int64"
      ]
     },
     "execution_count": 88,
     "metadata": {},
     "output_type": "execute_result"
    }
   ],
   "source": [
    "data[\"City\"].value_counts()"
   ]
  },
  {
   "cell_type": "code",
   "execution_count": 89,
   "id": "f37d2052",
   "metadata": {},
   "outputs": [
    {
     "data": {
      "text/html": [
       "<div>\n",
       "<style scoped>\n",
       "    .dataframe tbody tr th:only-of-type {\n",
       "        vertical-align: middle;\n",
       "    }\n",
       "\n",
       "    .dataframe tbody tr th {\n",
       "        vertical-align: top;\n",
       "    }\n",
       "\n",
       "    .dataframe thead th {\n",
       "        text-align: right;\n",
       "    }\n",
       "</style>\n",
       "<table border=\"1\" class=\"dataframe\">\n",
       "  <thead>\n",
       "    <tr style=\"text-align: right;\">\n",
       "      <th></th>\n",
       "      <th>Retailer</th>\n",
       "      <th>Retailer ID</th>\n",
       "      <th>Invoice Date</th>\n",
       "      <th>Region</th>\n",
       "      <th>State</th>\n",
       "      <th>City</th>\n",
       "      <th>Product</th>\n",
       "      <th>Price per Unit</th>\n",
       "      <th>Units Sold</th>\n",
       "      <th>Total Sales</th>\n",
       "      <th>Operating Profit</th>\n",
       "      <th>Sales Method</th>\n",
       "    </tr>\n",
       "  </thead>\n",
       "  <tbody>\n",
       "    <tr>\n",
       "      <th>0</th>\n",
       "      <td>False</td>\n",
       "      <td>False</td>\n",
       "      <td>False</td>\n",
       "      <td>False</td>\n",
       "      <td>False</td>\n",
       "      <td>False</td>\n",
       "      <td>False</td>\n",
       "      <td>False</td>\n",
       "      <td>False</td>\n",
       "      <td>False</td>\n",
       "      <td>False</td>\n",
       "      <td>False</td>\n",
       "    </tr>\n",
       "    <tr>\n",
       "      <th>1</th>\n",
       "      <td>False</td>\n",
       "      <td>False</td>\n",
       "      <td>False</td>\n",
       "      <td>False</td>\n",
       "      <td>False</td>\n",
       "      <td>False</td>\n",
       "      <td>False</td>\n",
       "      <td>False</td>\n",
       "      <td>False</td>\n",
       "      <td>False</td>\n",
       "      <td>False</td>\n",
       "      <td>False</td>\n",
       "    </tr>\n",
       "    <tr>\n",
       "      <th>2</th>\n",
       "      <td>False</td>\n",
       "      <td>False</td>\n",
       "      <td>False</td>\n",
       "      <td>False</td>\n",
       "      <td>False</td>\n",
       "      <td>False</td>\n",
       "      <td>False</td>\n",
       "      <td>False</td>\n",
       "      <td>False</td>\n",
       "      <td>False</td>\n",
       "      <td>False</td>\n",
       "      <td>False</td>\n",
       "    </tr>\n",
       "    <tr>\n",
       "      <th>3</th>\n",
       "      <td>False</td>\n",
       "      <td>False</td>\n",
       "      <td>False</td>\n",
       "      <td>False</td>\n",
       "      <td>False</td>\n",
       "      <td>False</td>\n",
       "      <td>False</td>\n",
       "      <td>False</td>\n",
       "      <td>False</td>\n",
       "      <td>False</td>\n",
       "      <td>False</td>\n",
       "      <td>False</td>\n",
       "    </tr>\n",
       "    <tr>\n",
       "      <th>4</th>\n",
       "      <td>False</td>\n",
       "      <td>False</td>\n",
       "      <td>False</td>\n",
       "      <td>False</td>\n",
       "      <td>False</td>\n",
       "      <td>False</td>\n",
       "      <td>False</td>\n",
       "      <td>False</td>\n",
       "      <td>False</td>\n",
       "      <td>False</td>\n",
       "      <td>False</td>\n",
       "      <td>False</td>\n",
       "    </tr>\n",
       "    <tr>\n",
       "      <th>...</th>\n",
       "      <td>...</td>\n",
       "      <td>...</td>\n",
       "      <td>...</td>\n",
       "      <td>...</td>\n",
       "      <td>...</td>\n",
       "      <td>...</td>\n",
       "      <td>...</td>\n",
       "      <td>...</td>\n",
       "      <td>...</td>\n",
       "      <td>...</td>\n",
       "      <td>...</td>\n",
       "      <td>...</td>\n",
       "    </tr>\n",
       "    <tr>\n",
       "      <th>9636</th>\n",
       "      <td>False</td>\n",
       "      <td>False</td>\n",
       "      <td>False</td>\n",
       "      <td>False</td>\n",
       "      <td>False</td>\n",
       "      <td>False</td>\n",
       "      <td>False</td>\n",
       "      <td>False</td>\n",
       "      <td>False</td>\n",
       "      <td>False</td>\n",
       "      <td>False</td>\n",
       "      <td>False</td>\n",
       "    </tr>\n",
       "    <tr>\n",
       "      <th>9637</th>\n",
       "      <td>False</td>\n",
       "      <td>False</td>\n",
       "      <td>False</td>\n",
       "      <td>False</td>\n",
       "      <td>False</td>\n",
       "      <td>False</td>\n",
       "      <td>False</td>\n",
       "      <td>False</td>\n",
       "      <td>False</td>\n",
       "      <td>False</td>\n",
       "      <td>False</td>\n",
       "      <td>False</td>\n",
       "    </tr>\n",
       "    <tr>\n",
       "      <th>9638</th>\n",
       "      <td>False</td>\n",
       "      <td>False</td>\n",
       "      <td>False</td>\n",
       "      <td>False</td>\n",
       "      <td>False</td>\n",
       "      <td>False</td>\n",
       "      <td>False</td>\n",
       "      <td>False</td>\n",
       "      <td>False</td>\n",
       "      <td>False</td>\n",
       "      <td>False</td>\n",
       "      <td>False</td>\n",
       "    </tr>\n",
       "    <tr>\n",
       "      <th>9639</th>\n",
       "      <td>False</td>\n",
       "      <td>False</td>\n",
       "      <td>False</td>\n",
       "      <td>False</td>\n",
       "      <td>False</td>\n",
       "      <td>False</td>\n",
       "      <td>False</td>\n",
       "      <td>False</td>\n",
       "      <td>False</td>\n",
       "      <td>False</td>\n",
       "      <td>False</td>\n",
       "      <td>False</td>\n",
       "    </tr>\n",
       "    <tr>\n",
       "      <th>9640</th>\n",
       "      <td>False</td>\n",
       "      <td>False</td>\n",
       "      <td>False</td>\n",
       "      <td>False</td>\n",
       "      <td>False</td>\n",
       "      <td>False</td>\n",
       "      <td>False</td>\n",
       "      <td>False</td>\n",
       "      <td>False</td>\n",
       "      <td>False</td>\n",
       "      <td>False</td>\n",
       "      <td>False</td>\n",
       "    </tr>\n",
       "  </tbody>\n",
       "</table>\n",
       "<p>9641 rows × 12 columns</p>\n",
       "</div>"
      ],
      "text/plain": [
       "      Retailer  Retailer ID  Invoice Date  Region  State   City  Product  \\\n",
       "0        False        False         False   False  False  False    False   \n",
       "1        False        False         False   False  False  False    False   \n",
       "2        False        False         False   False  False  False    False   \n",
       "3        False        False         False   False  False  False    False   \n",
       "4        False        False         False   False  False  False    False   \n",
       "...        ...          ...           ...     ...    ...    ...      ...   \n",
       "9636     False        False         False   False  False  False    False   \n",
       "9637     False        False         False   False  False  False    False   \n",
       "9638     False        False         False   False  False  False    False   \n",
       "9639     False        False         False   False  False  False    False   \n",
       "9640     False        False         False   False  False  False    False   \n",
       "\n",
       "      Price per Unit  Units Sold  Total Sales  Operating Profit  Sales Method  \n",
       "0              False       False        False             False         False  \n",
       "1              False       False        False             False         False  \n",
       "2              False       False        False             False         False  \n",
       "3              False       False        False             False         False  \n",
       "4              False       False        False             False         False  \n",
       "...              ...         ...          ...               ...           ...  \n",
       "9636           False       False        False             False         False  \n",
       "9637           False       False        False             False         False  \n",
       "9638           False       False        False             False         False  \n",
       "9639           False       False        False             False         False  \n",
       "9640           False       False        False             False         False  \n",
       "\n",
       "[9641 rows x 12 columns]"
      ]
     },
     "execution_count": 89,
     "metadata": {},
     "output_type": "execute_result"
    }
   ],
   "source": [
    "data.isnull()"
   ]
  },
  {
   "cell_type": "code",
   "execution_count": 90,
   "id": "464c32bd",
   "metadata": {},
   "outputs": [
    {
     "data": {
      "image/png": "[encoded data removed]",
      "text/plain": [
       "<Figure size 800x800 with 1 Axes>"
      ]
     },
     "metadata": {},
     "output_type": "display_data"
    }
   ],
   "source": [
    "import numpy as np  # Import numpy library\n",
    "\n",
    "# Assuming 'data' is your DataFrame containing the sales metrics\n",
    "\n",
    "# Convert relevant columns to numeric data types, handling errors gracefully\n",
    "data[\"Total Sales\"] = pd.to_numeric(data[\"Total Sales\"], errors='coerce')\n",
    "data[\"Operating Profit\"] = pd.to_numeric(data[\"Operating Profit\"], errors='coerce')\n",
    "data[\"Price per Unit\"] = pd.to_numeric(data[\"Price per Unit\"], errors='coerce')\n",
    "data[\"Units Sold\"] = pd.to_numeric(data[\"Units Sold\"], errors='coerce')\n",
    "\n",
    "# Replace NaN values with zeros\n",
    "data.fillna(0, inplace=True)\n",
    "\n",
    "# Calculate the values for the pie chart\n",
    "values = [data[\"Total Sales\"].sum(), \n",
    "          data[\"Operating Profit\"].sum(), \n",
    "          data[\"Price per Unit\"].mean(), \n",
    "          data[\"Units Sold\"].sum()]\n",
    "\n",
    "# Define the labels for the pie chart\n",
    "labels = ['Total Sales', 'Operating Profit', 'Average Price per Unit', 'Total Units Sold']\n",
    "\n",
    "# Plotting the pie chart\n",
    "plt.figure(figsize=(8, 8))\n",
    "plt.pie(values, labels=labels, autopct='%1.1f%%', startangle=140)\n",
    "plt.title('Sales Metrics')\n",
    "plt.show()\n"
   ]
  },
  {
   "cell_type": "code",
   "execution_count": 92,
   "id": "66e16565",
   "metadata": {},
   "outputs": [
    {
     "data": {
      "text/plain": [
       "<Figure size 1000x600 with 0 Axes>"
      ]
     },
     "metadata": {},
     "output_type": "display_data"
    },
    {
     "data": {
      "image/png": "[encoded data removed]",
      "text/plain": [
       "<Figure size 640x480 with 1 Axes>"
      ]
     },
     "metadata": {},
     "output_type": "display_data"
    }
   ],
   "source": [
    "# Assuming you have a DataFrame named data containing information about retailers and their operating profit\n",
    "# You can extract the top 10 retailers based on their operating profit\n",
    "top_retailers = data.nlargest(10, 'Operating Profit')\n",
    "\n",
    "# Now you can proceed with plotting the bar chart using the top_retailers DataFrame\n",
    "plt.figure(figsize=(10,6))\n",
    "top_retailers.plot(kind='bar', color='skyblue')\n",
    "plt.title('Profit by Retailer (top 10)')\n",
    "plt.xlabel('Retailer')\n",
    "plt.ylabel('Operating Profit')\n",
    "plt.xticks(rotation=45)\n",
    "plt.tight_layout()\n"
   ]
  },
  {
   "cell_type": "code",
   "execution_count": 94,
   "id": "96c93afd",
   "metadata": {},
   "outputs": [],
   "source": [
    "import pandas as pd\n",
    "\n",
    "data['Invoice Date'] = pd.to_datetime(data['Invoice Date'])\n",
    "monthly_sales = data.resample('M', on='Invoice Date')['Total Sales'].sum()\n"
   ]
  },
  {
   "cell_type": "code",
   "execution_count": 95,
   "id": "0e9032a4",
   "metadata": {},
   "outputs": [
    {
     "data": {
      "image/png": "[encoded data removed]",
      "text/plain": [
       "<Figure size 1200x600 with 1 Axes>"
      ]
     },
     "metadata": {},
     "output_type": "display_data"
    }
   ],
   "source": [
    "plt.figure(figsize=(12,6))\n",
    "monthly_sales.plot(kind='line',marker='o',color='green')\n",
    "plt.title('Monthly sales Trend Over Time')\n",
    "plt.xlabel ('Month')\n",
    "plt.ylabel ('Total Sales')\n",
    "plt.grid()"
   ]
  },
  {
   "cell_type": "code",
   "execution_count": null,
   "id": "0c27fd27",
   "metadata": {},
   "outputs": [],
   "source": [
    "\n"
   ]
  },
  {
   "cell_type": "code",
   "execution_count": null,
   "id": "ccacc2f1",
   "metadata": {},
   "outputs": [],
   "source": []
  }
 ],
 "metadata": {
  "kernelspec": {
   "display_name": "Python 3 (ipykernel)",
   "language": "python",
   "name": "python3"
  },
  "language_info": {
   "codemirror_mode": {
    "name": "ipython",
    "version": 3
   },
   "file_extension": ".py",
   "mimetype": "text/x-python",
   "name": "python",
   "nbconvert_exporter": "python",
   "pygments_lexer": "ipython3",
   "version": "3.11.5"
  }
 },
 "nbformat": 4,
 "nbformat_minor": 5
}
